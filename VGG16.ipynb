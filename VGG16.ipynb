{
  "metadata": {
    "kernelspec": {
      "language": "python",
      "display_name": "Python 3",
      "name": "python3"
    },
    "language_info": {
      "pygments_lexer": "ipython3",
      "nbconvert_exporter": "python",
      "version": "3.6.4",
      "file_extension": ".py",
      "codemirror_mode": {
        "name": "ipython",
        "version": 3
      },
      "name": "python",
      "mimetype": "text/x-python"
    },
    "colab": {
      "provenance": [],
      "collapsed_sections": [
        "pwtTDYdd9hUO"
      ],
      "toc_visible": true
    },
    "gpuClass": "standard",
    "accelerator": "GPU"
  },
  "nbformat_minor": 0,
  "nbformat": 4,
  "cells": [
    {
      "cell_type": "markdown",
      "source": [
        "[![View filled on Github](https://img.shields.io/static/v1.svg?logo=github&label=Repo&message=View%20On%20Github&color=lightgrey)](https://github.com/matteo-bertini/Facial-Expression-Recognition)\n",
        "[![Open filled In Collab](https://colab.research.google.com/assets/colab-badge.svg)](https://colab.research.google.com/github/matteo-bertini/Facial-Expression-Recognition/blob/main/ResNet152V2.ipynb)\n",
        "\n",
        "# Importing the libraries\n",
        "The libraries to implement Five-Layers-CNN and related utilities are imported here."
      ],
      "metadata": {
        "id": "QKKuBv4kQVNY"
      }
    },
    {
      "cell_type": "code",
      "source": [
        "import random\n",
        "import pandas as pd\n",
        "import numpy as np \n",
        "import pickle\n",
        "import matplotlib.pyplot as plt\n",
        "from sklearn.preprocessing import LabelEncoder\n",
        "from sklearn.metrics import classification_report, confusion_matrix,ConfusionMatrixDisplay\n",
        "import tensorflow as tf\n",
        "from tensorflow import keras\n",
        "from keras.applications import VGG16 \n",
        "from tensorflow import keras,convert_to_tensor\n",
        "from sklearn.model_selection  import train_test_split\n",
        "from tensorflow.keras.callbacks import Callback, EarlyStopping, ReduceLROnPlateau\n",
        "from tensorflow.keras.preprocessing.image import ImageDataGenerator\n",
        "from tensorflow.keras.utils import to_categorical"
      ],
      "metadata": {
        "execution": {
          "iopub.status.busy": "2022-12-19T15:42:48.749154Z",
          "iopub.execute_input": "2022-12-19T15:42:48.75192Z",
          "iopub.status.idle": "2022-12-19T15:42:56.0274Z",
          "shell.execute_reply.started": "2022-12-19T15:42:48.751884Z",
          "shell.execute_reply": "2022-12-19T15:42:56.026244Z"
        },
        "trusted": true,
        "id": "VzZWnGZfQVNc"
      },
      "execution_count": null,
      "outputs": []
    },
    {
      "cell_type": "markdown",
      "metadata": {
        "id": "YHWruOLHycQv"
      },
      "source": [
        "# Utilities\n",
        "Here we declare some functions that will be useful later."
      ]
    },
    {
      "cell_type": "code",
      "execution_count": null,
      "metadata": {
        "id": "YN0JOk11144C"
      },
      "outputs": [],
      "source": [
        "# Returns a batch with n samples from the set passed in input\n",
        "def random_images(X,y,n):\n",
        "  X_len = X.shape[0]\n",
        "  ran_indices = random.sample(range(0,X_len,1),n)\n",
        "  to_ret_X = []\n",
        "  to_ret_y = []\n",
        "  for i in range(0,n):\n",
        "    to_ret_X.append(X[ran_indices[i]])\n",
        "    to_ret_y.append(y[ran_indices[i]])\n",
        "\n",
        "  return tf.stack(to_ret_X),tf.stack(to_ret_y)\n",
        "\n",
        "# Plots the images and their labels passed in input \n",
        "def print_images_with_labels(X,y):\n",
        "  emotions = [\"Angry\",\"Disgust\",\"Fear\",\"Happy\",\"Sad\",\"Surprise\",\"Neutral\"]\n",
        "  num_images = X.shape[0]\n",
        "  fig = plt.figure(figsize = (2*num_images,2*num_images))\n",
        "  for i in range(0,num_images):\n",
        "    fig.add_subplot(1,num_images,i+1)\n",
        "    plt.axis(\"off\")\n",
        "    plt.imshow(X[i].numpy().reshape(48,48),cmap=\"gray\")\n",
        "    plt.title(emotions[y[i].numpy().argmax()])\n",
        "  plt.show(fig)\n",
        "  return"
      ]
    },
    {
      "cell_type": "markdown",
      "metadata": {
        "id": "TylfoKwOZI4d"
      },
      "source": [
        "# GPU Check\n",
        "This section checks whether the GPU is in use or not."
      ]
    },
    {
      "cell_type": "code",
      "execution_count": null,
      "metadata": {
        "colab": {
          "base_uri": "https://localhost:8080/"
        },
        "outputId": "643600eb-85d3-4b0e-e698-dee50d6cdd33",
        "id": "RI9WzVhURaxu"
      },
      "outputs": [
        {
          "output_type": "stream",
          "name": "stdout",
          "text": [
            "You are using GPU.\n",
            "\n"
          ]
        }
      ],
      "source": [
        "num_gpu_available = len(tf.config.list_physical_devices('GPU'))\n",
        "if num_gpu_available == 0 :\n",
        "  print(\"You are not using GPU.\\n\")\n",
        "else:\n",
        "  print(\"You are using GPU.\\n\")"
      ]
    },
    {
      "cell_type": "code",
      "execution_count": null,
      "metadata": {
        "colab": {
          "base_uri": "https://localhost:8080/"
        },
        "outputId": "094d7bb6-8aaa-45af-c714-8692884e31c2",
        "id": "McloFWoNRaxv"
      },
      "outputs": [
        {
          "output_type": "stream",
          "name": "stdout",
          "text": [
            "Thu Jan 19 14:22:26 2023       \n",
            "+-----------------------------------------------------------------------------+\n",
            "| NVIDIA-SMI 460.32.03    Driver Version: 460.32.03    CUDA Version: 11.2     |\n",
            "|-------------------------------+----------------------+----------------------+\n",
            "| GPU  Name        Persistence-M| Bus-Id        Disp.A | Volatile Uncorr. ECC |\n",
            "| Fan  Temp  Perf  Pwr:Usage/Cap|         Memory-Usage | GPU-Util  Compute M. |\n",
            "|                               |                      |               MIG M. |\n",
            "|===============================+======================+======================|\n",
            "|   0  Tesla T4            Off  | 00000000:00:04.0 Off |                    0 |\n",
            "| N/A   69C    P0    30W /  70W |      3MiB / 15109MiB |      4%      Default |\n",
            "|                               |                      |                  N/A |\n",
            "+-------------------------------+----------------------+----------------------+\n",
            "                                                                               \n",
            "+-----------------------------------------------------------------------------+\n",
            "| Processes:                                                                  |\n",
            "|  GPU   GI   CI        PID   Type   Process name                  GPU Memory |\n",
            "|        ID   ID                                                   Usage      |\n",
            "|=============================================================================|\n",
            "|  No running processes found                                                 |\n",
            "+-----------------------------------------------------------------------------+\n"
          ]
        }
      ],
      "source": [
        "# Command to run to see the specs of the assigned GPU. (only valid if GPU is in use)\n",
        "!nvidia-smi"
      ]
    },
    {
      "cell_type": "markdown",
      "source": [
        "# Mounting Google Drive"
      ],
      "metadata": {
        "id": "92iA1-hPQml9"
      }
    },
    {
      "cell_type": "code",
      "source": [
        "from google.colab import drive\n",
        "drive.mount('/content/drive')"
      ],
      "metadata": {
        "colab": {
          "base_uri": "https://localhost:8080/"
        },
        "id": "hRp8ClaxQqBL",
        "outputId": "f2b0bff6-b030-4f01-90e3-97ddb263622a"
      },
      "execution_count": null,
      "outputs": [
        {
          "output_type": "stream",
          "name": "stdout",
          "text": [
            "Mounted at /content/drive\n"
          ]
        }
      ]
    },
    {
      "cell_type": "markdown",
      "source": [
        "# Loading Dataset\n",
        "The dataset provided by the .csv file is uploaded and processed here.\n"
      ],
      "metadata": {
        "id": "iI-74bMbacrE"
      }
    },
    {
      "cell_type": "markdown",
      "source": [
        "## Loading the dataset from the csv file\n",
        "In this section the file \"icml_face_data.csv\" is loaded inside a dataframe, which is processed and then divided into three other dataframes (one for train, one for validation and one for test) according to the value of the \"usage\" column."
      ],
      "metadata": {
        "id": "1UTFfsJbLhOY"
      }
    },
    {
      "cell_type": "code",
      "source": [
        "# Loading icml_face_data.csv into dataframe df_icml\n",
        "df_icml = pd.read_csv(\"/content/drive/MyDrive/Facial-Expression-Recognition/challenges-in-representation-learning-facial-expression-recognition-challenge/icml_face_data.csv\",sep=\",\")\n",
        "\n",
        "# Columns renamed for easier access.\n",
        "df_icml.rename(columns = {' Usage':'usage'}, inplace = True)\n",
        "df_icml.rename(columns = {' pixels':'pixels'}, inplace = True)\n",
        "\n",
        "# Transforming pixel strings into 48x48x1 numpy arrays of float32\n",
        "df_icml[\"pixels\"] = df_icml['pixels'].apply(lambda x: np.array(x.split()).reshape(48, 48,1).astype('float32'))\n",
        "# Transforming 48x48x1 numpy arrays into 48x48x3 by coping the first channel\n",
        "df_icml[\"pixels\"] = df_icml[\"pixels\"].apply(lambda x : np.repeat(a=x,repeats=3,axis = 2))\n",
        "\n",
        "# Creating the X numpyarray\n",
        "X = df_icml[\"pixels\"]\n",
        "X = np.stack(X, axis=0)\n",
        "X=X/255.0\n",
        "print(\"X has shape: \")\n",
        "print(X.shape)\n",
        "\n",
        "# Creating the y numpyarray\n",
        "y = df_icml[\"emotion\"].to_numpy()\n",
        "y = to_categorical(y)\n",
        "print(\"y has shape: \")\n",
        "print(y.shape)\n",
        "\n",
        "print(\"\\n\")\n",
        "\n",
        "# Data Augmentation phase \n",
        "\n",
        "# Declaration of the ImageDataGenerator with the transformations to apply to generate new images\n",
        "data_gen = ImageDataGenerator(rotation_range = 15,width_shift_range = 0.15,height_shift_range = 0.15,shear_range = 0.15,zoom_range = 0.15,horizontal_flip = True)\n",
        "\n",
        "# Disgust Class \n",
        "\n",
        "# Creating the X numpyarray with samples from disgust class\n",
        "X_disg = df_icml.loc[df_icml['emotion'].isin([1])][\"pixels\"]\n",
        "X_disg = np.stack(X_disg, axis=0)\n",
        "X_disg = X_disg/255.0\n",
        "print(\"X_disg has shape: \")\n",
        "print(X_disg.shape)\n",
        "\n",
        "# Creating the y numpyarray with samples from disgust class\n",
        "y_disg = np.zeros((547,7))\n",
        "for i in range (0,y_disg.shape[0]):\n",
        "  y_disg[i][1] = 1 \n",
        "print(\"y_disg has shape: \")\n",
        "print(y_disg.shape)\n",
        "print(\"\\n\")\n",
        "\n",
        "# Adding the newly created images and labels to the original dataset\n",
        "i = 0\n",
        "while i < 9:\n",
        "  data_gen.fit(X_disg)\n",
        "  it = data_gen.flow(X_disg,y_disg,batch_size = 547,shuffle = True)\n",
        "  X_to_add = it.next()[0]\n",
        "  y_to_add = it.next()[1]\n",
        "  X = np.concatenate((X,X_to_add),axis = 0)\n",
        "  y = np.concatenate((y,y_to_add),axis = 0)\n",
        "  i=i+1\n",
        "\n",
        "\n",
        "# Surprise Class \n",
        "\n",
        "# Creating the X numpyarray with samples from surprise class\n",
        "X_surp = df_icml.loc[df_icml['emotion'].isin([5])][\"pixels\"]\n",
        "X_surp = np.stack(X_surp, axis=0)\n",
        "X_surp = X_surp/255.0\n",
        "print(\"X_surp has shape: \")\n",
        "print(X_surp.shape)\n",
        "\n",
        "# Creating the y numpyarray with samples from surprise class\n",
        "y_surp = np.zeros((4002,7))\n",
        "for i in range (0,y_surp.shape[0]):\n",
        "  y_surp[i][5] = 1 \n",
        "print(\"y_surp has shape: \")\n",
        "print(y_surp.shape)\n",
        "print(\"\\n\")\n",
        "\n",
        "# Adding the newly created images and labels to the original dataset\n",
        "i = 0\n",
        "while i < 9:\n",
        "  data_gen.fit(X_surp)\n",
        "  it = data_gen.flow(X_surp,y_surp,batch_size = 200,shuffle = True)\n",
        "  X_to_add = it.next()[0]\n",
        "  y_to_add = it.next()[1]\n",
        "  X = np.concatenate((X,X_to_add),axis = 0)\n",
        "  y = np.concatenate((y,y_to_add),axis = 0)\n",
        "  i=i+1\n",
        "\n",
        "print(X.shape,y.shape)\n",
        "\n",
        "# Creating the train,val,test split using sklearn library \n",
        "# ( the stratify option retains the same proportion of classes in the train and test\n",
        "#  sets that are found in the entire original dataset,it helps in the building of balanced train-test splits)\n",
        "X_train,X_test,y_train,y_test = train_test_split(X,y,test_size=0.2,shuffle=True,stratify=y,random_state = 42)\n",
        "X_test,X_val,y_test,y_val = train_test_split(X_test,y_test,test_size=0.5,shuffle=True,stratify=y_test,random_state=42)\n",
        "\n",
        "# Transforming sets from numpy array to tensors\n",
        "X_train = convert_to_tensor(X_train)\n",
        "X_val = convert_to_tensor(X_val)\n",
        "X_test = convert_to_tensor(X_test)\n",
        "print(\"Sets shapes:\")\n",
        "print(\"X_train has shape: \")\n",
        "print(X_train.shape)\n",
        "print(\"y_train has shape: \")\n",
        "print(y_train.shape)\n",
        "print(\"X_val has shape: \")\n",
        "print(X_val.shape)\n",
        "print(\"y_val has shape: \")\n",
        "print(y_val.shape)\n",
        "print(\"X_test has shape: \")\n",
        "print(X_test.shape)\n",
        "print(\"y_test has shape: \")\n",
        "print(y_test.shape)\n"
      ],
      "metadata": {
        "id": "x5oHyCP2Lg4U",
        "colab": {
          "base_uri": "https://localhost:8080/"
        },
        "outputId": "536699f2-4819-4cc5-b18d-7e2d69afedf4"
      },
      "execution_count": null,
      "outputs": [
        {
          "output_type": "stream",
          "name": "stdout",
          "text": [
            "X has shape: \n",
            "(35887, 48, 48, 3)\n",
            "y has shape: \n",
            "(35887, 7)\n",
            "\n",
            "\n",
            "X_disg has shape: \n",
            "(547, 48, 48, 3)\n",
            "y_disg has shape: \n",
            "(547, 7)\n",
            "\n",
            "\n",
            "X_surp has shape: \n",
            "(4002, 48, 48, 3)\n",
            "y_surp has shape: \n",
            "(4002, 7)\n",
            "\n",
            "\n",
            "(42610, 48, 48, 3) (42610, 7)\n",
            "Sets shapes:\n",
            "X_train has shape: \n",
            "(34088, 48, 48, 3)\n",
            "y_train has shape: \n",
            "(34088, 7)\n",
            "X_val has shape: \n",
            "(4261, 48, 48, 3)\n",
            "y_val has shape: \n",
            "(4261, 7)\n",
            "X_test has shape: \n",
            "(4261, 48, 48, 3)\n",
            "y_test has shape: \n",
            "(4261, 7)\n"
          ]
        }
      ]
    },
    {
      "cell_type": "markdown",
      "source": [
        "## Assignment of class weights\n",
        "In this section, class weights are calculated and assigned. These weights are useful in the training phase to manage the imbalance between classes that emerged in the Exploratory Data Analysis.\n",
        "The following formula will be used to calculate the class weights:\\\n",
        "          **wj = n_samples / (n_classes * n_samplesj)**\\\n",
        "where:\n",
        "\n",
        "\n",
        "*   wj is the weight for each class (j is the index of the class)\n",
        "*   n_samples is the total number of samples or rows in the dataset\n",
        "*   n_classes is the total number of unique classes in the dataset\n",
        "*   n_samplesj is the total number of rows of the respective class (j is the index of the class)\n",
        "\n",
        "\n",
        "\n"
      ],
      "metadata": {
        "id": "eWM3pff49fYM"
      }
    },
    {
      "cell_type": "code",
      "source": [
        "# computing the total number of samples in the train set\n",
        "n_samples = y_train.shape[0]\n",
        "\n",
        "# declaration of the weights dictionary to pass in the training phase\n",
        "weights = {0:0.0,1:0.0,2:0.0,3:0.0,4:0.0,5:0.0,6:0.0}\n",
        "\n",
        "# counting n_samples j for each class\n",
        "for j in range(n_samples):\n",
        "  idx = y_train[j].argmax()\n",
        "  weights[idx]=weights[idx]+1\n",
        "\n",
        "print(weights)\n",
        "# computing the weights for each class\n",
        "for j in range(7):\n",
        "  weights[j] = n_samples/ (7* weights[j])\n",
        "\n",
        "# visualizing the weights\n",
        "display(weights)"
      ],
      "metadata": {
        "id": "Sc0GYxmf-INj",
        "outputId": "c8cfaef0-d1cc-4cac-8ed9-5d77cd19cff7",
        "colab": {
          "base_uri": "https://localhost:8080/",
          "height": 156
        }
      },
      "execution_count": null,
      "outputs": [
        {
          "output_type": "stream",
          "name": "stdout",
          "text": [
            "{0: 3962.0, 1: 4376.0, 2: 4097.0, 3: 7191.0, 4: 4862.0, 5: 4642.0, 6: 4958.0}\n"
          ]
        },
        {
          "output_type": "display_data",
          "data": {
            "text/plain": [
              "{0: 1.2291050695896732,\n",
              " 1: 1.1128231914337947,\n",
              " 2: 1.1886049025419296,\n",
              " 3: 0.6771957009754256,\n",
              " 4: 1.001586648645472,\n",
              " 5: 1.049055210192651,\n",
              " 6: 0.9821932807007434}"
            ]
          },
          "metadata": {}
        }
      ]
    },
    {
      "cell_type": "markdown",
      "source": [
        "## Creating the network structure\n",
        "Here the architecture of ResNet152V2 is imported from the library.\n"
      ],
      "metadata": {
        "id": "AK8uj6Mpah_W"
      }
    },
    {
      "cell_type": "code",
      "source": [
        "model = VGG16(include_top = True,weights=None,input_shape=(48,48,3),pooling=\"max\",classes=7)\n",
        "model._name = \"VGG16\"\n",
        "\n",
        "# After creating the structure of the network, we visualize it in a compact way.\n",
        "model.summary()"
      ],
      "metadata": {
        "id": "1jSXz49k3jbh",
        "colab": {
          "base_uri": "https://localhost:8080/"
        },
        "outputId": "192a81b0-48a5-4a03-81d4-ea843de221fa"
      },
      "execution_count": null,
      "outputs": [
        {
          "output_type": "stream",
          "name": "stdout",
          "text": [
            "Model: \"VGG16\"\n",
            "_________________________________________________________________\n",
            " Layer (type)                Output Shape              Param #   \n",
            "=================================================================\n",
            " input_2 (InputLayer)        [(None, 48, 48, 3)]       0         \n",
            "                                                                 \n",
            " block1_conv1 (Conv2D)       (None, 48, 48, 64)        1792      \n",
            "                                                                 \n",
            " block1_conv2 (Conv2D)       (None, 48, 48, 64)        36928     \n",
            "                                                                 \n",
            " block1_pool (MaxPooling2D)  (None, 24, 24, 64)        0         \n",
            "                                                                 \n",
            " block2_conv1 (Conv2D)       (None, 24, 24, 128)       73856     \n",
            "                                                                 \n",
            " block2_conv2 (Conv2D)       (None, 24, 24, 128)       147584    \n",
            "                                                                 \n",
            " block2_pool (MaxPooling2D)  (None, 12, 12, 128)       0         \n",
            "                                                                 \n",
            " block3_conv1 (Conv2D)       (None, 12, 12, 256)       295168    \n",
            "                                                                 \n",
            " block3_conv2 (Conv2D)       (None, 12, 12, 256)       590080    \n",
            "                                                                 \n",
            " block3_conv3 (Conv2D)       (None, 12, 12, 256)       590080    \n",
            "                                                                 \n",
            " block3_pool (MaxPooling2D)  (None, 6, 6, 256)         0         \n",
            "                                                                 \n",
            " block4_conv1 (Conv2D)       (None, 6, 6, 512)         1180160   \n",
            "                                                                 \n",
            " block4_conv2 (Conv2D)       (None, 6, 6, 512)         2359808   \n",
            "                                                                 \n",
            " block4_conv3 (Conv2D)       (None, 6, 6, 512)         2359808   \n",
            "                                                                 \n",
            " block4_pool (MaxPooling2D)  (None, 3, 3, 512)         0         \n",
            "                                                                 \n",
            " block5_conv1 (Conv2D)       (None, 3, 3, 512)         2359808   \n",
            "                                                                 \n",
            " block5_conv2 (Conv2D)       (None, 3, 3, 512)         2359808   \n",
            "                                                                 \n",
            " block5_conv3 (Conv2D)       (None, 3, 3, 512)         2359808   \n",
            "                                                                 \n",
            " block5_pool (MaxPooling2D)  (None, 1, 1, 512)         0         \n",
            "                                                                 \n",
            " flatten (Flatten)           (None, 512)               0         \n",
            "                                                                 \n",
            " fc1 (Dense)                 (None, 4096)              2101248   \n",
            "                                                                 \n",
            " fc2 (Dense)                 (None, 4096)              16781312  \n",
            "                                                                 \n",
            " predictions (Dense)         (None, 7)                 28679     \n",
            "                                                                 \n",
            "=================================================================\n",
            "Total params: 33,625,927\n",
            "Trainable params: 33,625,927\n",
            "Non-trainable params: 0\n",
            "_________________________________________________________________\n"
          ]
        }
      ]
    },
    {
      "cell_type": "markdown",
      "source": [
        "## Compiling the model\n",
        "In this section the model is compiled, in particular are defined:\n",
        "\n",
        "\n",
        "*   the loss function (categorical crossentropy)\n",
        "*   the optimizator (adam optimizer)\n",
        "*   the evaluation metrics (accuracy)\n",
        "\n",
        "\n",
        "\n",
        "\n",
        "\n"
      ],
      "metadata": {
        "id": "Nf9Vn1eGb-aN"
      }
    },
    {
      "cell_type": "code",
      "execution_count": null,
      "metadata": {
        "id": "7nKvHUOnZOqi"
      },
      "outputs": [],
      "source": [
        "# defining the loss function,the optimizer and the evaluation metrics\n",
        "opt = keras.optimizers.Adam(learning_rate = 1.2e-4,amsgrad=True)\n",
        "model.compile(\n",
        "    loss = 'categorical_crossentropy',\n",
        "    optimizer = opt,\n",
        "    metrics = ['accuracy']\n",
        ")\n"
      ]
    },
    {
      "cell_type": "code",
      "execution_count": null,
      "metadata": {
        "id": "1D4PikmQQVN8"
      },
      "outputs": [],
      "source": [
        "# defining some callbacks \n",
        "\n",
        "# this callback reduces learning rate when the metric passed has stopped improving (prevents overfitting)\n",
        "reduce_lr = ReduceLROnPlateau(monitor='val_loss',factor=0.1,patience=4,min_lr=0,verbose=1)\n",
        "\n",
        "# this callback stops training when a monitored metric has stopped improving (prevents overfitting)\n",
        "early_stopping = EarlyStopping(monitor = \"val_loss\",min_delta = 0.0035,patience = 10,verbose = 1)\n",
        "\n",
        "callbacks = []"
      ]
    },
    {
      "cell_type": "markdown",
      "source": [
        "# Training the VGG19\n",
        "in this section the net is trained on the training set."
      ],
      "metadata": {
        "id": "P1di7pz0eFPV"
      }
    },
    {
      "cell_type": "code",
      "source": [
        "# Training the net\n",
        "\n",
        "print(\"Training:\\n\")\n",
        "batch_size = 32\n",
        "epochs = 10\n",
        "history = model.fit(X_train,y_train,batch_size=batch_size,epochs=epochs,validation_data=(X_val, y_val))\n",
        "\n",
        "# Saving the history to visualize the learning curves even without having trained the network (future use)\n",
        "\n",
        "with open(\"/content/drive/MyDrive/VGG16_history.pi\", 'wb') as file_pi:\n",
        "    pickle.dump(history.history, file_pi)\n"
      ],
      "metadata": {
        "id": "SYc2LycpEoKV",
        "colab": {
          "base_uri": "https://localhost:8080/"
        },
        "outputId": "e35f5694-62ac-4198-cb3e-15bce3fb002b"
      },
      "execution_count": null,
      "outputs": [
        {
          "output_type": "stream",
          "name": "stdout",
          "text": [
            "Training:\n",
            "\n",
            "Epoch 1/10\n",
            "1066/1066 [==============================] - 57s 52ms/step - loss: 1.8453 - accuracy: 0.2560 - val_loss: 1.6513 - val_accuracy: 0.3487\n",
            "Epoch 2/10\n",
            "1066/1066 [==============================] - 54s 50ms/step - loss: 1.5131 - accuracy: 0.4177 - val_loss: 1.3363 - val_accuracy: 0.4889\n",
            "Epoch 3/10\n",
            "1066/1066 [==============================] - 53s 50ms/step - loss: 1.2631 - accuracy: 0.5124 - val_loss: 1.1643 - val_accuracy: 0.5614\n",
            "Epoch 4/10\n",
            "1066/1066 [==============================] - 54s 51ms/step - loss: 1.1180 - accuracy: 0.5697 - val_loss: 1.0931 - val_accuracy: 0.5818\n",
            "Epoch 5/10\n",
            "1066/1066 [==============================] - 53s 50ms/step - loss: 1.0084 - accuracy: 0.6147 - val_loss: 1.0550 - val_accuracy: 0.5893\n",
            "Epoch 6/10\n",
            "1066/1066 [==============================] - 53s 50ms/step - loss: 0.9234 - accuracy: 0.6464 - val_loss: 1.0201 - val_accuracy: 0.6210\n",
            "Epoch 7/10\n",
            "1066/1066 [==============================] - 53s 50ms/step - loss: 0.8437 - accuracy: 0.6767 - val_loss: 1.0047 - val_accuracy: 0.6301\n",
            "Epoch 8/10\n",
            "1066/1066 [==============================] - 54s 51ms/step - loss: 0.7564 - accuracy: 0.7141 - val_loss: 1.0259 - val_accuracy: 0.6271\n",
            "Epoch 9/10\n",
            "1066/1066 [==============================] - 54s 51ms/step - loss: 0.6690 - accuracy: 0.7482 - val_loss: 0.9675 - val_accuracy: 0.6574\n",
            "Epoch 10/10\n",
            "1066/1066 [==============================] - 53s 50ms/step - loss: 0.5896 - accuracy: 0.7838 - val_loss: 1.0081 - val_accuracy: 0.6520\n"
          ]
        }
      ]
    },
    {
      "cell_type": "markdown",
      "source": [
        "# Learning curves visualization\n",
        "Here the learning curves are displayed.\n",
        "In particular, it is displayed how the loss and accuracy change for the training set and for the validation set during the various training epochs."
      ],
      "metadata": {
        "id": "pwtTDYdd9hUO"
      }
    },
    {
      "cell_type": "code",
      "source": [
        "# Loading training history from saved file\n",
        "\n",
        "with open(\"/content/drive/MyDrive/VGG16_history.pi\", \"rb\") as file_pi:\n",
        "    history = pickle.load(file_pi)"
      ],
      "metadata": {
        "id": "23F88DKAPJGe"
      },
      "execution_count": null,
      "outputs": []
    },
    {
      "cell_type": "code",
      "execution_count": null,
      "metadata": {
        "id": "MAVKFSYoxgI8",
        "colab": {
          "base_uri": "https://localhost:8080/",
          "height": 621
        },
        "outputId": "7b095132-3904-4133-a8b3-a9f0282266ce"
      },
      "outputs": [
        {
          "output_type": "display_data",
          "data": {
            "text/plain": [
              "<Figure size 720x720 with 1 Axes>"
            ],
            "image/png": "[encoded data removed]"
          },
          "metadata": {
            "needs_background": "light"
          }
        }
      ],
      "source": [
        "# visualizing the accuracy learning curve\n",
        "\n",
        "# creating the figure\n",
        "acc_lc = plt.figure(figsize = (10,10))\n",
        "\n",
        "# plotting training and validation accuracy\n",
        "plt.plot(history[\"accuracy\"])                                                         \n",
        "plt.plot(history['val_accuracy'])  \n",
        "\n",
        "# setting plot title\n",
        "plt.title('Model accuracy')\n",
        "\n",
        "# setting x and y ticks and labels for the plot\n",
        "plt.ylabel('Accuracy')\n",
        "plt.yticks([0.0,0.10,0.15,0.20,0.25,0.30,0.35,0.40,0.45,0.50,0.55,0.60,0.65,0.70,0.75,0.80,0.85,0.90,0.95,1.0])\n",
        "plt.xlabel('Epoch')\n",
        "plt.xticks(range(0,epochs+1))\n",
        "\n",
        "# setting the legend for the plot\n",
        "plt.legend(['Training', 'Validation'], loc='upper left')\n",
        "\n",
        "# adding the grid\n",
        "plt.grid()\n",
        "\n",
        "# showing the figure\n",
        "plt.show(acc_lc)"
      ]
    },
    {
      "cell_type": "code",
      "execution_count": null,
      "metadata": {
        "id": "XidygRtJEdMU",
        "colab": {
          "base_uri": "https://localhost:8080/",
          "height": 621
        },
        "outputId": "7b3726fd-0cf9-4f29-bcb4-b719514c0583"
      },
      "outputs": [
        {
          "output_type": "display_data",
          "data": {
            "text/plain": [
              "<Figure size 720x720 with 1 Axes>"
            ],
            "image/png": "[encoded data removed]"
          },
          "metadata": {
            "needs_background": "light"
          }
        }
      ],
      "source": [
        "# visualizing the loss learning curves\n",
        "\n",
        "# creating the figure\n",
        "loss_lc = plt.figure(figsize = (10,10))\n",
        "\n",
        "# plotting training and validation accuracy\n",
        "plt.plot(history['loss'])                                                         \n",
        "plt.plot(history['val_loss'])  \n",
        "\n",
        "# setting plot title\n",
        "plt.title('Model loss')\n",
        "\n",
        "# setting x and y ticks and labels for the plot\n",
        "plt.ylabel('loss')\n",
        "plt.xlabel('epoch')\n",
        "plt.xticks(range(0,epochs+1))\n",
        "\n",
        "# setting the legend for the plot\n",
        "plt.legend(['train', 'val'], loc='upper left')\n",
        "\n",
        "# adding the grid\n",
        "plt.grid()\n",
        "\n",
        "# showing the figure\n",
        "plt.show(loss_lc)"
      ]
    },
    {
      "cell_type": "markdown",
      "source": [
        "# Testing the VGG19"
      ],
      "metadata": {
        "id": "w9akggxZMnZd"
      }
    },
    {
      "cell_type": "code",
      "source": [
        "test_history = model.evaluate(X_test,y_test,batch_size = 8)\n",
        "print(\"Test Loss : %f , Test Accuracy : %f\" %(test_history[0],test_history[1]))"
      ],
      "metadata": {
        "colab": {
          "base_uri": "https://localhost:8080/"
        },
        "id": "hjDFmw0Tr7IG",
        "outputId": "beb5afb7-7013-42c7-9341-01c64d130601"
      },
      "execution_count": null,
      "outputs": [
        {
          "output_type": "stream",
          "name": "stdout",
          "text": [
            "533/533 [==============================] - 6s 10ms/step - loss: 1.0501 - accuracy: 0.6459\n",
            "Test Loss : 1.050072 , Test Accuracy : 0.645858\n"
          ]
        }
      ]
    },
    {
      "cell_type": "markdown",
      "source": [
        "# Visualizing the confusion matrix\n"
      ],
      "metadata": {
        "id": "sD6QVKGVMpBh"
      }
    },
    {
      "cell_type": "code",
      "source": [
        "# computing the predictions on the test set\n",
        "y_pred=model.predict(X_test,verbose=0) \n",
        "\n",
        "# creating the confusion matrix and the confusion matrix display\n",
        "cm = confusion_matrix( y_test.argmax(axis=1), y_pred.argmax(axis=1))\n",
        "cm_display = ConfusionMatrixDisplay(cm,display_labels=[\"Angry\",\"Disgust\",\"Fear\",\"Happy\",\"Sad\",\"Surprise\",\"Neutral\"])\n",
        "\n",
        "# creating the figure and axes\n",
        "fig, ax = plt.subplots(figsize=(10,10))\n",
        "\n",
        "# plotting the confusion matrix\n",
        "cm_display = cm_display.plot(ax=ax)"
      ],
      "metadata": {
        "id": "dQN2mK2KKTqG",
        "colab": {
          "base_uri": "https://localhost:8080/",
          "height": 574
        },
        "outputId": "1bdc17c2-e73f-4166-c4b5-ef9f409886a0"
      },
      "execution_count": null,
      "outputs": [
        {
          "output_type": "display_data",
          "data": {
            "text/plain": [
              "<Figure size 720x720 with 2 Axes>"
            ],
            "image/png": "[encoded data removed]"
          },
          "metadata": {
            "needs_background": "light"
          }
        }
      ]
    },
    {
      "cell_type": "markdown",
      "metadata": {
        "id": "j1yzikI-EfrW"
      },
      "source": [
        "# Computing classification report and class accuracy"
      ]
    },
    {
      "cell_type": "code",
      "source": [
        "# Visualizing the classification report\n",
        "print(\"Classification report: \\n\")\n",
        "emotions = [\"Angry\",\"Disgust\",\"Fear\",\"Happy\",\"Sad\",\"Surprise\",\"Neutral\"]\n",
        "print(classification_report(y_test.argmax(1),y_pred.argmax(1),labels = [0,1,2,3,4,5,6],target_names = emotions))\n",
        "print(\"\\n\")\n",
        "\n",
        "# Computing and visualizing class accuracy\n",
        "\n",
        "print(\"Class accuracy: \\n\")\n",
        "cl_acc = []\n",
        "tp_p_tn = cm.diagonal().sum()\n",
        "for i in range(7):\n",
        "  fp = cm[:,i].sum()\n",
        "  fn = cm[i].sum()\n",
        "  acc = tp_p_tn / (tp_p_tn+fp+fn-2*cm[i][i])\n",
        "  cl_acc.append(acc)\n",
        "\n",
        "for i in range(7):\n",
        "  print(\"%s : %f\\n\"%(emotions[i],cl_acc[i]))\n",
        "  \n",
        "\n"
      ],
      "metadata": {
        "id": "oL0NFELqKax9",
        "colab": {
          "base_uri": "https://localhost:8080/"
        },
        "outputId": "bd8350c6-c24b-4e37-8166-6e5f27610ac9"
      },
      "execution_count": null,
      "outputs": [
        {
          "output_type": "stream",
          "name": "stdout",
          "text": [
            "Classification report: \n",
            "\n",
            "              precision    recall  f1-score   support\n",
            "\n",
            "       Angry       0.55      0.45      0.49       496\n",
            "     Disgust       0.84      0.93      0.88       547\n",
            "        Fear       0.44      0.33      0.38       512\n",
            "       Happy       0.84      0.80      0.82       899\n",
            "         Sad       0.42      0.54      0.47       607\n",
            "    Surprise       0.76      0.82      0.79       580\n",
            "     Neutral       0.55      0.52      0.54       620\n",
            "\n",
            "    accuracy                           0.65      4261\n",
            "   macro avg       0.63      0.63      0.62      4261\n",
            "weighted avg       0.64      0.65      0.64      4261\n",
            "\n",
            "\n",
            "\n",
            "Class accuracy: \n",
            "\n",
            "Angry : 0.858658\n",
            "\n",
            "Disgust : 0.953899\n",
            "\n",
            "Fear : 0.830416\n",
            "\n",
            "Happy : 0.897001\n",
            "\n",
            "Sad : 0.787861\n",
            "\n",
            "Surprise : 0.915807\n",
            "\n",
            "Neutral : 0.830918\n",
            "\n"
          ]
        }
      ]
    },
    {
      "cell_type": "markdown",
      "metadata": {
        "id": "Tac-aVro4Krd"
      },
      "source": [
        "# Saving the model\n",
        "After training and testing the model we save it for future use."
      ]
    },
    {
      "cell_type": "code",
      "execution_count": null,
      "metadata": {
        "id": "YZBVZt7o4Wts"
      },
      "outputs": [],
      "source": [
        "model.save(\"/content/drive/MyDrive/Facial-Expression-Recognition/VGG16.h5\")"
      ]
    },
    {
      "cell_type": "markdown",
      "metadata": {
        "id": "S2M7cmWk94Q9"
      },
      "source": [
        "# Visualizing model performances\n",
        "In this section the trained model will be loaded and then its performances will be displayed.\\\n",
        "More specifically:\n",
        "\n",
        "\n",
        "*   A random batch of images will be extracted from the Test Set.\n",
        "*   The extracted images will be displayed with their real labels (groundtruth)\n",
        "* The extracted images will be displayed with the labels predicted by the model\n",
        "\n"
      ]
    },
    {
      "cell_type": "code",
      "execution_count": null,
      "metadata": {
        "id": "mF5X_te3FzNn"
      },
      "outputs": [],
      "source": [
        "# Loading the model\n",
        "model = load_model(\"/content/drive/MyDrive/Facial-Expression-Recognition/VGG16.h5\")"
      ]
    },
    {
      "cell_type": "code",
      "execution_count": null,
      "metadata": {
        "id": "7qtpJ8aDABy2"
      },
      "outputs": [],
      "source": [
        "# Getting the number of random images to extract from the user\n",
        "n = int(input(\"Enter the number of random images to extract: \"))\n",
        "\n",
        "# Generating the random images batch\n",
        "images,labels = random_images(X_test,y_test,n)\n",
        "\n",
        "# Visualizing the images with their real labels\n",
        "print(\"Groundtruth:\\n\")\n",
        "print_images_with_labels(images,labels)\n",
        "print(\"\\n\")\n",
        "\n",
        "# Visualizing the images with the predicted labels\n",
        "pred = convert_to_tensor(model(images))\n",
        "print(\"Model predictions:\\n\")\n",
        "print_images_with_labels(images,pred)"
      ]
    }
  ]
}